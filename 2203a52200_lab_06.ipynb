{
  "nbformat": 4,
  "nbformat_minor": 0,
  "metadata": {
    "colab": {
      "provenance": []
    },
    "kernelspec": {
      "name": "python3",
      "display_name": "Python 3"
    },
    "language_info": {
      "name": "python"
    }
  },
  "cells": [
    {
      "cell_type": "code",
      "execution_count": 1,
      "metadata": {
        "colab": {
          "base_uri": "https://localhost:8080/"
        },
        "id": "MhLquIghclTJ",
        "outputId": "ba3ae902-39fe-462c-cac9-a9acd16e8382"
      },
      "outputs": [
        {
          "output_type": "stream",
          "name": "stdout",
          "text": [
            "    Invoice ID Branch       City Customer type  Gender  \\\n",
            "0  750-67-8428      A     Yangon        Member  Female   \n",
            "1  226-31-3081      C  Naypyitaw        Normal  Female   \n",
            "2  631-41-3108      A     Yangon        Normal    Male   \n",
            "3  123-19-1176      A     Yangon        Member    Male   \n",
            "4  373-73-7910      A     Yangon        Normal    Male   \n",
            "\n",
            "             Product line  Unit price  Quantity   Tax 5%     Total       Date  \\\n",
            "0       Health and beauty       74.69         7  26.1415  548.9715   1/5/2019   \n",
            "1  Electronic accessories       15.28         5   3.8200   80.2200   3/8/2019   \n",
            "2      Home and lifestyle       46.33         7  16.2155  340.5255   3/3/2019   \n",
            "3       Health and beauty       58.22         8  23.2880  489.0480  1/27/2019   \n",
            "4       Sports and travel       86.31         7  30.2085  634.3785   2/8/2019   \n",
            "\n",
            "    Time      Payment    cogs  gross margin percentage  gross income  Rating  \n",
            "0  13:08      Ewallet  522.83                 4.761905       26.1415     9.1  \n",
            "1  10:29         Cash   76.40                 4.761905        3.8200     9.6  \n",
            "2  13:23  Credit card  324.31                 4.761905       16.2155     7.4  \n",
            "3  20:33      Ewallet  465.76                 4.761905       23.2880     8.4  \n",
            "4  10:37      Ewallet  604.17                 4.761905       30.2085     5.3  \n"
          ]
        }
      ],
      "source": [
        "import pandas as pd\n",
        "\n",
        "# Load the dataset\n",
        "file_path = \"/content/supermarket_sales -.csv\"\n",
        "df = pd.read_csv(file_path)\n",
        "\n",
        "# Display the first few rows\n",
        "print(df.head())\n"
      ]
    },
    {
      "cell_type": "code",
      "source": [
        "# Define Events\n",
        "# Event A: A transaction is made in Branch A\n",
        "event_A = df[df['Branch'] == 'A']\n",
        "\n",
        "# Event B: A transaction involves purchasing from the Health and Beauty product line\n",
        "event_B = df[df['Product line'] == 'Health and beauty']\n",
        "\n",
        "# Display the first few rows of each event\n",
        "print(\"Event A - Transactions in Branch A:\")\n",
        "print(event_A.head())\n",
        "print(\"\\nEvent B - Transactions in Health and Beauty:\")\n",
        "print(event_B.head())\n"
      ],
      "metadata": {
        "colab": {
          "base_uri": "https://localhost:8080/"
        },
        "id": "NGLrIBw6dVcH",
        "outputId": "2b5c6c4d-716d-48fd-821e-5456fa4bfdb3"
      },
      "execution_count": 2,
      "outputs": [
        {
          "output_type": "stream",
          "name": "stdout",
          "text": [
            "Event A - Transactions in Branch A:\n",
            "    Invoice ID Branch    City Customer type  Gender            Product line  \\\n",
            "0  750-67-8428      A  Yangon        Member  Female       Health and beauty   \n",
            "2  631-41-3108      A  Yangon        Normal    Male      Home and lifestyle   \n",
            "3  123-19-1176      A  Yangon        Member    Male       Health and beauty   \n",
            "4  373-73-7910      A  Yangon        Normal    Male       Sports and travel   \n",
            "6  355-53-5943      A  Yangon        Member  Female  Electronic accessories   \n",
            "\n",
            "   Unit price  Quantity   Tax 5%     Total       Date   Time      Payment  \\\n",
            "0       74.69         7  26.1415  548.9715   1/5/2019  13:08      Ewallet   \n",
            "2       46.33         7  16.2155  340.5255   3/3/2019  13:23  Credit card   \n",
            "3       58.22         8  23.2880  489.0480  1/27/2019  20:33      Ewallet   \n",
            "4       86.31         7  30.2085  634.3785   2/8/2019  10:37      Ewallet   \n",
            "6       68.84         6  20.6520  433.6920  2/25/2019  14:36      Ewallet   \n",
            "\n",
            "     cogs  gross margin percentage  gross income  Rating  \n",
            "0  522.83                 4.761905       26.1415     9.1  \n",
            "2  324.31                 4.761905       16.2155     7.4  \n",
            "3  465.76                 4.761905       23.2880     8.4  \n",
            "4  604.17                 4.761905       30.2085     5.3  \n",
            "6  413.04                 4.761905       20.6520     5.8  \n",
            "\n",
            "Event B - Transactions in Health and Beauty:\n",
            "     Invoice ID Branch    City Customer type  Gender       Product line  \\\n",
            "0   750-67-8428      A  Yangon        Member  Female  Health and beauty   \n",
            "3   123-19-1176      A  Yangon        Member    Male  Health and beauty   \n",
            "8   665-32-9167      A  Yangon        Member  Female  Health and beauty   \n",
            "14  829-34-3910      A  Yangon        Normal  Female  Health and beauty   \n",
            "16  656-95-9349      A  Yangon        Member  Female  Health and beauty   \n",
            "\n",
            "    Unit price  Quantity   Tax 5%     Total       Date   Time      Payment  \\\n",
            "0        74.69         7  26.1415  548.9715   1/5/2019  13:08      Ewallet   \n",
            "3        58.22         8  23.2880  489.0480  1/27/2019  20:33      Ewallet   \n",
            "8        36.26         2   3.6260   76.1460  1/10/2019  17:15  Credit card   \n",
            "14       71.38        10  35.6900  749.4900  3/29/2019  19:21         Cash   \n",
            "16       68.93         7  24.1255  506.6355  3/11/2019  11:03  Credit card   \n",
            "\n",
            "      cogs  gross margin percentage  gross income  Rating  \n",
            "0   522.83                 4.761905       26.1415     9.1  \n",
            "3   465.76                 4.761905       23.2880     8.4  \n",
            "8    72.52                 4.761905        3.6260     7.2  \n",
            "14  713.80                 4.761905       35.6900     5.7  \n",
            "16  482.51                 4.761905       24.1255     4.6  \n"
          ]
        }
      ]
    },
    {
      "cell_type": "code",
      "source": [
        "# Compute probabilities\n",
        "P_A = len(event_A) / len(df)\n",
        "P_B = len(event_B) / len(df)\n",
        "P_A_and_B = len(event_A[event_A['Product line'] == 'Health and beauty']) / len(df)\n",
        "P_A_or_B = P_A + P_B - P_A_and_B\n",
        "P_A_given_B = P_A_and_B / P_B if P_B > 0 else 0\n",
        "\n",
        "# Display results\n",
        "print(f\"P(A) = {P_A:.4f}\")\n",
        "print(f\"P(B) = {P_B:.4f}\")\n",
        "print(f\"P(A ∩ B) = {P_A_and_B:.4f}\")\n",
        "print(f\"P(A ∪ B) = {P_A_or_B:.4f}\")\n",
        "print(f\"P(A | B) = {P_A_given_B:.4f}\")\n"
      ],
      "metadata": {
        "colab": {
          "base_uri": "https://localhost:8080/"
        },
        "id": "pDEGg_OPd33S",
        "outputId": "661e9022-bae1-48fe-d667-f0f8d68be5df"
      },
      "execution_count": 3,
      "outputs": [
        {
          "output_type": "stream",
          "name": "stdout",
          "text": [
            "P(A) = 0.3400\n",
            "P(B) = 0.1520\n",
            "P(A ∩ B) = 0.0470\n",
            "P(A ∪ B) = 0.4450\n",
            "P(A | B) = 0.3092\n"
          ]
        }
      ]
    },
    {
      "cell_type": "code",
      "source": [
        "import pandas as pd\n",
        "\n",
        "# Load the dataset\n",
        "file_path = \"/content/supermarket_sales -.csv\"\n",
        "df = pd.read_csv(file_path)\n",
        "\n",
        "# Define Events\n",
        "# Event A: A transaction is made in Branch A\n",
        "event_A = df[df['Branch'] == 'A']\n",
        "\n",
        "# Event B: A transaction involves purchasing from the Health and Beauty product line\n",
        "event_B = df[df['Product line'] == 'Health and beauty']\n",
        "\n",
        "# Compute probabilities\n",
        "P_A = len(event_A) / len(df)\n",
        "P_B = len(event_B) / len(df)\n",
        "P_A_and_B = len(event_A[event_A['Product line'] == 'Health and beauty']) / len(df)\n",
        "P_A_or_B = P_A + P_B - P_A_and_B\n",
        "P_A_given_B = P_A_and_B / P_B if P_B > 0 else 0\n",
        "\n",
        "# Additional probability calculations\n",
        "# Probability of Health & Beauty product line transaction\n",
        "P_Health_Beauty = len(df[df['Product line'] == 'Health and beauty']) / len(df)\n",
        "\n",
        "# Probability of purchasing more than 5 items given Ewallet payment\n",
        "ewallet_transactions = df[df['Payment'] == 'Ewallet']\n",
        "P_MoreThan5_given_Ewallet = len(ewallet_transactions[ewallet_transactions['Quantity'] > 5]) / len(ewallet_transactions) if len(ewallet_transactions) > 0 else 0\n",
        "\n",
        "# Probability of using Cash in Yangon\n",
        "yangon_transactions = df[df['City'] == 'Yangon']\n",
        "P_Cash_given_Yangon = len(yangon_transactions[yangon_transactions['Payment'] == 'Cash']) / len(yangon_transactions) if len(yangon_transactions) > 0 else 0\n",
        "\n",
        "# Probability of selecting a Member who gave a rating above 8\n",
        "member_high_rating = df[(df['Customer type'] == 'Member') & (df['Rating'] > 8)]\n",
        "P_Member_HighRating = len(member_high_rating) / len(df)\n",
        "\n",
        "# Display results\n",
        "print(f\"P(A) = {P_A:.4f}\")\n",
        "print(f\"P(B) = {P_B:.4f}\")\n",
        "print(f\"P(A ∩ B) = {P_A_and_B:.4f}\")\n",
        "print(f\"P(A ∪ B) = {P_A_or_B:.4f}\")\n",
        "print(f\"P(A | B) = {P_A_given_B:.4f}\")\n",
        "print(f\"P(Health & Beauty) = {P_Health_Beauty:.4f}\")\n",
        "print(f\"P(More than 5 items | Ewallet) = {P_MoreThan5_given_Ewallet:.4f}\")\n",
        "print(f\"P(Cash | Yangon) = {P_Cash_given_Yangon:.4f}\")\n",
        "print(f\"P(Member & Rating > 8) = {P_Member_HighRating:.4f}\")\n"
      ],
      "metadata": {
        "colab": {
          "base_uri": "https://localhost:8080/"
        },
        "id": "STA9PFSnd63j",
        "outputId": "250ab877-a2d6-4eca-80d8-d5f2a3afdde4"
      },
      "execution_count": 4,
      "outputs": [
        {
          "output_type": "stream",
          "name": "stdout",
          "text": [
            "P(A) = 0.3400\n",
            "P(B) = 0.1520\n",
            "P(A ∩ B) = 0.0470\n",
            "P(A ∪ B) = 0.4450\n",
            "P(A | B) = 0.3092\n",
            "P(Health & Beauty) = 0.1520\n",
            "P(More than 5 items | Ewallet) = 0.4870\n",
            "P(Cash | Yangon) = 0.3235\n",
            "P(Member & Rating > 8) = 0.1570\n"
          ]
        }
      ]
    },
    {
      "cell_type": "code",
      "source": [
        "import pandas as pd\n",
        "import math\n",
        "\n",
        "# Load the dataset\n",
        "file_path = \"/content/supermarket_sales -.csv\"\n",
        "df = pd.read_csv(file_path)\n",
        "\n",
        "# Define Events\n",
        "# Event A: A transaction is made in Branch A\n",
        "event_A = df[df['Branch'] == 'A']\n",
        "\n",
        "# Event B: A transaction involves purchasing from the Health and Beauty product line\n",
        "event_B = df[df['Product line'] == 'Health and beauty']\n",
        "\n",
        "# Compute probabilities\n",
        "P_A = len(event_A) / len(df)\n",
        "P_B = len(event_B) / len(df)\n",
        "P_A_and_B = len(event_A[event_A['Product line'] == 'Health and beauty']) / len(df)\n",
        "P_A_or_B = P_A + P_B - P_A_and_B\n",
        "P_A_given_B = P_A_and_B / P_B if P_B > 0 else 0\n",
        "\n",
        "# Additional probability calculations\n",
        "# Probability of Health & Beauty product line transaction\n",
        "P_Health_Beauty = len(df[df['Product line'] == 'Health and beauty']) / len(df)\n",
        "\n",
        "# Probability of purchasing more than 5 items given Ewallet payment\n",
        "ewallet_transactions = df[df['Payment'] == 'Ewallet']\n",
        "P_MoreThan5_given_Ewallet = len(ewallet_transactions[ewallet_transactions['Quantity'] > 5]) / len(ewallet_transactions) if len(ewallet_transactions) > 0 else 0\n",
        "\n",
        "# Probability of using Cash in Yangon\n",
        "yangon_transactions = df[df['City'] == 'Yangon']\n",
        "P_Cash_given_Yangon = len(yangon_transactions[yangon_transactions['Payment'] == 'Cash']) / len(yangon_transactions) if len(yangon_transactions) > 0 else 0\n",
        "\n",
        "# Probability of selecting a Member who gave a rating above 8\n",
        "member_high_rating = df[(df['Customer type'] == 'Member') & (df['Rating'] > 8)]\n",
        "P_Member_HighRating = len(member_high_rating) / len(df)\n",
        "\n",
        "# Factorial function\n",
        "def factorial(n):\n",
        "    return math.factorial(n)\n",
        "\n",
        "def permutations(n, r):\n",
        "    if r > n:\n",
        "        return 0\n",
        "    return math.factorial(n) // math.factorial(n - r)\n",
        "\n",
        "\n",
        "# Combinations function\n",
        "def combinations(n, r):\n",
        "    return math.factorial(n) // (math.factorial(r) * math.factorial(n - r))\n",
        "\n",
        "# Dataset-based scenarios\n",
        "# 1. Ways to arrange 5 transactions from 20\n",
        "ways_transactions = permutations(20, 5)\n",
        "\n",
        "# 2. Ways to select 3 product lines from 6\n",
        "ways_product_lines = combinations(6, 3)\n",
        "\n",
        "# 3. Factorial of the number of different branches\n",
        "num_branches = df['Branch'].nunique()\n",
        "factorial_branches = factorial(num_branches)\n",
        "\n",
        "# 4. Ways to display 4 payment methods from 3 available\n",
        "ways_payment_methods = permutations(3, 4)\n",
        "\n",
        "# 5. Ways to select 5 employees from 15\n",
        "ways_employees = combinations(15, 5)\n",
        "\n",
        "# 6. Unique invoice codes using 6 letters\n",
        "ways_invoice_codes = permutations(26, 6)\n",
        "\n",
        "# Display results\n",
        "print(f\"P(A) = {P_A:.4f}\")\n",
        "print(f\"P(B) = {P_B:.4f}\")\n",
        "print(f\"P(A ∩ B) = {P_A_and_B:.4f}\")\n",
        "print(f\"P(A ∪ B) = {P_A_or_B:.4f}\")\n",
        "print(f\"P(A | B) = {P_A_given_B:.4f}\")\n",
        "print(f\"P(Health & Beauty) = {P_Health_Beauty:.4f}\")\n",
        "print(f\"P(More than 5 items | Ewallet) = {P_MoreThan5_given_Ewallet:.4f}\")\n",
        "print(f\"P(Cash | Yangon) = {P_Cash_given_Yangon:.4f}\")\n",
        "print(f\"P(Member & Rating > 8) = {P_Member_HighRating:.4f}\")\n",
        "print(f\"Ways to arrange 5 transactions from 20: {ways_transactions}\")\n",
        "print(f\"Ways to select 3 product lines from 6: {ways_product_lines}\")\n",
        "print(f\"Factorial of number of branches: {factorial_branches}\")\n",
        "print(f\"Ways to display 4 payment methods from 3: {ways_payment_methods}\")\n",
        "print(f\"Ways to select 5 employees from 15: {ways_employees}\")\n",
        "print(f\"Ways to create unique invoice codes using 6 letters: {ways_invoice_codes}\")\n"
      ],
      "metadata": {
        "id": "rpykFkGMgBt_",
        "outputId": "1a416a49-0f9d-4864-e8e5-cfbd52a0d0e9",
        "colab": {
          "base_uri": "https://localhost:8080/"
        }
      },
      "execution_count": 12,
      "outputs": [
        {
          "output_type": "stream",
          "name": "stdout",
          "text": [
            "P(A) = 0.3400\n",
            "P(B) = 0.1520\n",
            "P(A ∩ B) = 0.0470\n",
            "P(A ∪ B) = 0.4450\n",
            "P(A | B) = 0.3092\n",
            "P(Health & Beauty) = 0.1520\n",
            "P(More than 5 items | Ewallet) = 0.4870\n",
            "P(Cash | Yangon) = 0.3235\n",
            "P(Member & Rating > 8) = 0.1570\n",
            "Ways to arrange 5 transactions from 20: 1860480\n",
            "Ways to select 3 product lines from 6: 20\n",
            "Factorial of number of branches: 6\n",
            "Ways to display 4 payment methods from 3: 0\n",
            "Ways to select 5 employees from 15: 3003\n",
            "Ways to create unique invoice codes using 6 letters: 165765600\n"
          ]
        }
      ]
    }
  ]
}